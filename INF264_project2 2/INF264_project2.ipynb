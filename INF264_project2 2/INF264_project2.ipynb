{
 "cells": [
  {
   "cell_type": "markdown",
   "metadata": {},
   "source": [
    "# INF264 - Project 2\n",
    "`@authors` Silje Folkestad and Kristin Loka Øydna"
   ]
  },
  {
   "cell_type": "markdown",
   "metadata": {},
   "source": [
    "## Overview\n",
    "0. [Preprocessing Steps](#Preprocessing-Steps)\n",
    "    1. [Importing Libraries](#Importing-Libraries)\n",
    "    2. [Importing Datasets](#Importing-Datasets)\n",
    "    3. [Visualize Handwritten Images](#Visualize-Handwritten-Images)\n",
    "    4. [Finding Missing Data](#Finding-Missing-Data)\n",
    "    5. [Splitting Dataset](#Splitting-Dataset)\n",
    "1. [Finding the Best Hyperparameters for the Classifiers](#Finding-the-Best-Hyperparameters-for-the-Classifiers)\n",
    "    1. [kNN](#kNN)\n",
    "        1. [Visualization of kNN With Different Metrics and Weights](#Visualization-of-kNN-With-Different-Metrics-and-Weights)\n",
    "    2. [MLP](#MPL)\n",
    "    3. [Decision Tree](#Decision-Tree)\n",
    "2. [Model Selection](#Model-Selection)\n",
    "    1. [Visualization of Performance Measures](#Visualization-of-Performance-Measures)\n",
    "3. [Model Evaluation](#Model-Evaluation)\n",
    "    1. [Checking for Overfitting](#Checking-for-Overfitting)"
   ]
  },
  {
   "cell_type": "markdown",
   "metadata": {},
   "source": [
    "## Preprocessing Steps"
   ]
  },
  {
   "cell_type": "markdown",
   "metadata": {},
   "source": [
    "### Importing Libraries"
   ]
  },
  {
   "cell_type": "code",
   "execution_count": 20,
   "metadata": {},
   "outputs": [],
   "source": [
    "import matplotlib.pyplot as plt\n",
    "import pandas as pd\n",
    "import numpy as np\n",
    "from sklearn.model_selection import train_test_split, cross_val_score\n",
    "from sklearn.neighbors import KNeighborsClassifier\n",
    "from sklearn import tree\n",
    "from sklearn.metrics import accuracy_score, log_loss, mean_squared_error\n",
    "from sklearn.linear_model import LogisticRegression\n",
    "from sklearn.neural_network import MLPClassifier\n",
    "from sklearn.pipeline import Pipeline\n",
    "from sklearn.preprocessing import StandardScaler\n",
    "from sklearn.model_selection import GridSearchCV"
   ]
  },
  {
   "cell_type": "markdown",
   "metadata": {},
   "source": [
    "### Importing Datasets"
   ]
  },
  {
   "cell_type": "code",
   "execution_count": 2,
   "metadata": {},
   "outputs": [
    {
     "data": {
      "text/plain": [
       "(17500, 784)"
      ]
     },
     "execution_count": 2,
     "metadata": {},
     "output_type": "execute_result"
    }
   ],
   "source": [
    "df_img = pd.read_csv(\"/Users/kristinlokaoydna/UiB_Bioinformatikk/H21/INF264/Python/Prosjekt/2/handwritten_digits_images.csv\", header = None)\n",
    "temp_img = df_img.iloc[::4, :]\n",
    "x_data = temp_img.to_numpy()\n",
    "\n",
    "\n",
    "df_label = pd.read_csv(\"/Users/kristinlokaoydna/UiB_Bioinformatikk/H21/INF264/Python/Prosjekt/2/handwritten_digits_labels.csv\", header = None)\n",
    "temp_label = df_label.iloc[::4, :]\n",
    "y_data = temp_label.to_numpy()\n",
    "y_data = y_data.flatten()\n",
    "\n",
    "temp_img.shape"
   ]
  },
  {
   "cell_type": "code",
   "execution_count": 60,
   "metadata": {},
   "outputs": [
    {
     "data": {
      "text/plain": [
       "array([[   0, 1726],\n",
       "       [   1, 1969],\n",
       "       [   2, 1748],\n",
       "       [   3, 1785],\n",
       "       [   4, 1706],\n",
       "       [   5, 1578],\n",
       "       [   6, 1719],\n",
       "       [   7, 1824],\n",
       "       [   8, 1706],\n",
       "       [   9, 1739]])"
      ]
     },
     "execution_count": 60,
     "metadata": {},
     "output_type": "execute_result"
    }
   ],
   "source": [
    "# Number of pictures for digits 0-9\n",
    "np.asarray(np.unique(y_data, return_counts=True)).T"
   ]
  },
  {
   "cell_type": "markdown",
   "metadata": {},
   "source": [
    "### Visualize Handwritten Images"
   ]
  },
  {
   "cell_type": "code",
   "execution_count": 49,
   "metadata": {},
   "outputs": [
    {
     "data": {
      "image/png": "[encoded data removed]",
      "text/plain": [
       "<Figure size 432x288 with 9 Axes>"
      ]
     },
     "metadata": {},
     "output_type": "display_data"
    }
   ],
   "source": [
    "img_ = df_img.iloc[::7000,:].to_numpy()\n",
    "img = img_.reshape(img_.shape[0], 28, 28)\n",
    "\n",
    "for i in range(9):\n",
    "    plt.subplot(330+1+i)\n",
    "    plt.imshow(img[i], cmap='Greys')\n",
    "    plt.tick_params(left=False,bottom=False,labelleft=False,labelbottom=False)\n",
    "\n",
    "plt.show()"
   ]
  },
  {
   "cell_type": "markdown",
   "metadata": {},
   "source": [
    "### Finding Missing Data"
   ]
  },
  {
   "cell_type": "code",
   "execution_count": 4,
   "metadata": {},
   "outputs": [
    {
     "name": "stdout",
     "output_type": "stream",
     "text": [
      "x_data har nan: False\n",
      "y_data has nan: False\n"
     ]
    }
   ],
   "source": [
    "x_sum = np.sum(x_data)\n",
    "x_has_nan = np.isnan(x_sum)\n",
    "print(\"x_data har nan:\",x_has_nan)\n",
    "\n",
    "y_sum = np.sum(y_data)\n",
    "y_has_nan = np.isnan(y_sum)\n",
    "print(\"y_data has nan:\",y_has_nan)"
   ]
  },
  {
   "cell_type": "markdown",
   "metadata": {},
   "source": [
    "### Splitting Dataset"
   ]
  },
  {
   "cell_type": "code",
   "execution_count": 5,
   "metadata": {},
   "outputs": [],
   "source": [
    "X_train, X_val_test, y_train, y_val_test = train_test_split(x_data, y_data, test_size = 0.3, shuffle = True, random_state = 42)\n",
    "X_val, X_test, y_val, y_test = train_test_split(X_val_test, y_val_test, test_size = 0.5, shuffle = True, random_state = 42)"
   ]
  },
  {
   "cell_type": "markdown",
   "metadata": {},
   "source": [
    "## Finding the Best Hyperparameters for the Classifiers"
   ]
  },
  {
   "cell_type": "markdown",
   "metadata": {},
   "source": [
    "### kNN"
   ]
  },
  {
   "cell_type": "code",
   "execution_count": 6,
   "metadata": {},
   "outputs": [],
   "source": [
    "#Metric = Euclidean, weights = distance\n",
    "k_list = [1, 3, 5, 7, 15]\n",
    "\n",
    "euc_train_acc = []\n",
    "\n",
    "for k in k_list:\n",
    "    KNN_classifier = KNeighborsClassifier(n_neighbors=k, metric='euclidean', weights='distance')\n",
    "    KNN_classifier.fit(X_train, y_train)\n",
    "    train_score = cross_val_score(KNN_classifier, X_train, y_train, cv=5)\n",
    "    euc_train_acc.append(train_score.mean())"
   ]
  },
  {
   "cell_type": "code",
   "execution_count": 7,
   "metadata": {},
   "outputs": [],
   "source": [
    "#Metric = Minkowski, weights = distance\n",
    "mink_train_acc = []\n",
    "\n",
    "for k in k_list:\n",
    "    KNN_classifier = KNeighborsClassifier(n_neighbors=k, metric='minkowski', weights='distance')\n",
    "    KNN_classifier.fit(X_train, y_train)\n",
    "    train_score = cross_val_score(KNN_classifier, X_train, y_train, cv=5)\n",
    "    mink_train_acc.append(train_score.mean())"
   ]
  },
  {
   "cell_type": "code",
   "execution_count": 8,
   "metadata": {},
   "outputs": [],
   "source": [
    "#Metric = Euclidean, weights = uniform\n",
    "euc_uni_train_acc = []\n",
    "\n",
    "for k in k_list:\n",
    "    KNN_classifier = KNeighborsClassifier(n_neighbors=k, metric='euclidean', weights='uniform')\n",
    "    KNN_classifier.fit(X_train, y_train)\n",
    "    train_score = cross_val_score(KNN_classifier, X_train, y_train, cv=5)\n",
    "    euc_uni_train_acc.append(train_score.mean())"
   ]
  },
  {
   "cell_type": "code",
   "execution_count": 9,
   "metadata": {},
   "outputs": [],
   "source": [
    "#Metric = Minkowski, weights = uniform\n",
    "mink_uni_train_acc = []\n",
    "\n",
    "for k in k_list:\n",
    "    KNN_classifier = KNeighborsClassifier(n_neighbors=k, metric='minkowski', weights='uniform')\n",
    "    KNN_classifier.fit(X_train, y_train)\n",
    "    train_score = cross_val_score(KNN_classifier, X_train, y_train, cv=5)\n",
    "    mink_uni_train_acc.append(train_score.mean())"
   ]
  },
  {
   "cell_type": "markdown",
   "metadata": {},
   "source": [
    "#### Visualization of kNN With Different Metrics and Weights"
   ]
  },
  {
   "cell_type": "code",
   "execution_count": 10,
   "metadata": {},
   "outputs": [
    {
     "data": {
      "image/png": "[encoded data removed]",
      "text/plain": [
       "<Figure size 432x288 with 2 Axes>"
      ]
     },
     "metadata": {
      "needs_background": "light"
     },
     "output_type": "display_data"
    },
    {
     "data": {
      "image/png": "[encoded data removed]",
      "text/plain": [
       "<Figure size 432x288 with 2 Axes>"
      ]
     },
     "metadata": {
      "needs_background": "light"
     },
     "output_type": "display_data"
    }
   ],
   "source": [
    "plt.figure()\n",
    "\n",
    "plt.suptitle('Accuracy on each k with weight = distance', fontsize=12)\n",
    "\n",
    "plt.subplot(121)\n",
    "\n",
    "plt.plot(k_list, euc_train_acc)\n",
    "plt.title('Training accuracy, metric = euclidean')\n",
    "plt.xticks(k_list, label=k_list)\n",
    "plt.xlabel('k')\n",
    "plt.ylabel('Accuracy')\n",
    "plt.grid()\n",
    "\n",
    "plt.subplot(122)\n",
    "\n",
    "plt.plot(k_list, mink_train_acc)\n",
    "plt.title('Training accuracy, metric = minkowski')\n",
    "plt.xticks(k_list, label=k_list)\n",
    "plt.xlabel('k')\n",
    "plt.ylabel('Accuracy')\n",
    "plt.grid()\n",
    "\n",
    "plt.subplots_adjust(left=0.01, right=0.99, wspace=0.6)\n",
    "\n",
    "plt.show()\n",
    "\n",
    "plt.figure()\n",
    "\n",
    "plt.suptitle('Accuracy on each k with weight = uniform', fontsize=12)\n",
    "\n",
    "plt.subplot(121)\n",
    "\n",
    "plt.plot(k_list, euc_uni_train_acc)\n",
    "plt.title('Training accuracy, metric = euclidean')\n",
    "plt.xticks(k_list, label=k_list)\n",
    "plt.xlabel('k')\n",
    "plt.ylabel('Accuracy')\n",
    "plt.grid()\n",
    "\n",
    "plt.subplot(122)\n",
    "\n",
    "plt.plot(k_list, mink_uni_train_acc)\n",
    "plt.title('Training accuracy, metric = minkowski')\n",
    "plt.xticks(k_list, label=k_list)\n",
    "plt.xlabel('k')\n",
    "plt.ylabel('Accuracy')\n",
    "plt.grid()\n",
    "\n",
    "plt.subplots_adjust(left=0.01, right=0.99, wspace=0.6)\n",
    "\n",
    "plt.show()"
   ]
  },
  {
   "cell_type": "markdown",
   "metadata": {},
   "source": [
    "The best hyperparameters for kNN based on train dataset: k=5, metric=Minkowski, weights=distance"
   ]
  },
  {
   "cell_type": "markdown",
   "metadata": {},
   "source": [
    "### MLP"
   ]
  },
  {
   "cell_type": "code",
   "execution_count": 13,
   "metadata": {},
   "outputs": [
    {
     "data": {
      "text/plain": [
       "GridSearchCV(estimator=Pipeline(steps=[('scaler', StandardScaler()),\n",
       "                                       ('mlp',\n",
       "                                        MLPClassifier(random_state=42))]),\n",
       "             param_grid=[{'mlp__alpha': [0.0001, 0.01, 0.1, 1],\n",
       "                          'mlp__hidden_layer_sizes': [100, 200],\n",
       "                          'mlp__max_iter': [100, 200]}],\n",
       "             scoring='accuracy')"
      ]
     },
     "execution_count": 13,
     "metadata": {},
     "output_type": "execute_result"
    }
   ],
   "source": [
    "mlp_pipe = Pipeline([('scaler', StandardScaler()), ('mlp', MLPClassifier(random_state=42))])\n",
    "\n",
    "params_mlp = [{'mlp__alpha': [0.0001,0.01, 0.1, 1], 'mlp__hidden_layer_sizes': [100, 200], 'mlp__max_iter': [100,200]}]\n",
    "\n",
    "gs_mlp = GridSearchCV(estimator=mlp_pipe, param_grid=params_mlp, scoring='accuracy')\n",
    "\n",
    "gs_mlp.fit(X_train, y_train)"
   ]
  },
  {
   "cell_type": "code",
   "execution_count": 14,
   "metadata": {},
   "outputs": [
    {
     "name": "stdout",
     "output_type": "stream",
     "text": [
      "The best hyperparameters for mlp based on train dataset:\n",
      " {'mlp__alpha': 0.1, 'mlp__hidden_layer_sizes': 200, 'mlp__max_iter': 100}\n"
     ]
    }
   ],
   "source": [
    "print(\"The best hyperparameters for mlp based on train dataset:\\n\", gs_mlp.best_params_)"
   ]
  },
  {
   "cell_type": "markdown",
   "metadata": {},
   "source": [
    "### Decision Tree "
   ]
  },
  {
   "cell_type": "code",
   "execution_count": 34,
   "metadata": {},
   "outputs": [
    {
     "data": {
      "text/plain": [
       "GridSearchCV(estimator=Pipeline(steps=[('scaler', StandardScaler()),\n",
       "                                       ('dt',\n",
       "                                        DecisionTreeClassifier(random_state=42))]),\n",
       "             param_grid=[{'dt__criterion': ['gini', 'entropy'],\n",
       "                          'dt__max_depth': [None, 20, 30, 50, 100, 1000],\n",
       "                          'dt__max_features': [None, 'sqrt', 'log2']}],\n",
       "             scoring='accuracy')"
      ]
     },
     "execution_count": 34,
     "metadata": {},
     "output_type": "execute_result"
    }
   ],
   "source": [
    "dt_pipe = Pipeline([('scaler', StandardScaler()), ('dt', tree.DecisionTreeClassifier(random_state = 42))])\n",
    "params_dt = [{'dt__criterion': ['gini', 'entropy'], 'dt__max_depth': [None, 20, 30, 50, 100, 1000], 'dt__max_features': [None, 'sqrt', 'log2']}]\n",
    "\n",
    "gs_dt = GridSearchCV(estimator=dt_pipe, param_grid=params_dt, scoring='accuracy')\n",
    "\n",
    "gs_dt.fit(X_train, y_train)"
   ]
  },
  {
   "cell_type": "code",
   "execution_count": 35,
   "metadata": {},
   "outputs": [
    {
     "name": "stdout",
     "output_type": "stream",
     "text": [
      "The best hyperparameters for DesicionTree based on train dataset:\n",
      " {'dt__criterion': 'entropy', 'dt__max_depth': None, 'dt__max_features': None}\n"
     ]
    }
   ],
   "source": [
    "print(\"The best hyperparameters for DesicionTree based on train dataset:\\n\", gs_dt.best_params_)"
   ]
  },
  {
   "cell_type": "markdown",
   "metadata": {},
   "source": [
    "## Model Selection"
   ]
  },
  {
   "cell_type": "code",
   "execution_count": 17,
   "metadata": {},
   "outputs": [],
   "source": [
    "models = {'kNN': KNeighborsClassifier(n_neighbors=5, metric='minkowski', weights='distance'),\n",
    "          'mlp': MLPClassifier(alpha= 0.1, hidden_layer_sizes= 200, max_iter= 100, random_state=42), \n",
    "          'dt': tree.DecisionTreeClassifier(criterion='entropy', max_depth=None, max_features=None, random_state=42)}\n",
    "\n",
    "for _, model in models.items():\n",
    "    model.fit(X_train, y_train)"
   ]
  },
  {
   "cell_type": "code",
   "execution_count": 18,
   "metadata": {},
   "outputs": [
    {
     "name": "stdout",
     "output_type": "stream",
     "text": [
      "     accuracy\n",
      "kNN  0.953524\n",
      "mlp  0.936381\n",
      "dt   0.822476\n"
     ]
    }
   ],
   "source": [
    "# Accuracy on validation data\n",
    "accuracies = {key: accuracy_score(y_val, model.predict(X_val)) for key, model in models.items()}\n",
    "accuracies_df = pd.DataFrame(accuracies, index=['accuracy']).transpose().sort_values(by='accuracy', ascending=False)\n",
    "print(accuracies_df)"
   ]
  },
  {
   "cell_type": "code",
   "execution_count": 29,
   "metadata": {},
   "outputs": [
    {
     "name": "stdout",
     "output_type": "stream",
     "text": [
      "     log-loss\n",
      "kNN  0.522498\n",
      "mlp  1.347741\n",
      "dt   6.131455\n"
     ]
    }
   ],
   "source": [
    "# Log loss on validation data\n",
    "losses = {key: log_loss(y_val, model.predict_proba(X_val)) for key, model in models.items()}\n",
    "losses_df = pd.DataFrame(losses, index=['log-loss']).transpose().sort_values(by='log-loss')\n",
    "print(losses_df)"
   ]
  },
  {
   "cell_type": "code",
   "execution_count": 22,
   "metadata": {},
   "outputs": [
    {
     "name": "stdout",
     "output_type": "stream",
     "text": [
      "          mse\n",
      "kNN  0.878476\n",
      "mlp  1.130286\n",
      "dt   2.988571\n"
     ]
    }
   ],
   "source": [
    "# MSE on validation data\n",
    "mse = {key: mean_squared_error(y_val, model.predict(X_val)) for key, model in models.items()}\n",
    "mse_df = pd.DataFrame(mse, index=['mse']).transpose().sort_values(by='mse', ascending=True)\n",
    "print(mse_df)"
   ]
  },
  {
   "cell_type": "markdown",
   "metadata": {},
   "source": [
    "### Visualization of Performance Measures"
   ]
  },
  {
   "cell_type": "code",
   "execution_count": 23,
   "metadata": {},
   "outputs": [
    {
     "data": {
      "image/png": "[encoded data removed]",
      "text/plain": [
       "<Figure size 1080x1440 with 3 Axes>"
      ]
     },
     "metadata": {
      "needs_background": "light"
     },
     "output_type": "display_data"
    }
   ],
   "source": [
    "plt.figure(figsize = (15, 20))\n",
    "plt.rc(\"xtick\", labelsize=18)\n",
    "\n",
    "plt.subplot(331)\n",
    "plt.bar(x = accuracies_df.index.values, height = accuracies_df.iloc[:, 0], color = \"blue\")\n",
    "plt.title(\"Accuracy score for the different models\", fontsize=15)\n",
    "plt.xlabel('Classifiers', fontsize=15)\n",
    "plt.ylabel('Accuracy', fontsize=15)\n",
    "plt.ylim(0.8,0.97)\n",
    "\n",
    "plt.subplot(332)\n",
    "plt.bar(x = losses_df.index.values, height = losses_df.iloc[:, 0], color = \"orange\")\n",
    "plt.title(\"Log-loss score for the different models\", fontsize=15)\n",
    "plt.xlabel('Classifiers', fontsize=15)\n",
    "plt.ylabel('Log-loss', fontsize=15)\n",
    "\n",
    "plt.subplot(333)\n",
    "plt.bar(x = mse_df.index.values, height = mse_df.iloc[:, 0], color = \"red\")\n",
    "plt.title(\"mse for the different models\", fontsize=15)\n",
    "plt.xlabel('Classifiers', fontsize=15)\n",
    "plt.ylabel('mse', fontsize=15)\n",
    "\n",
    "plt.subplots_adjust(left=0.01, right=0.99)\n",
    "\n",
    "plt.show()"
   ]
  },
  {
   "cell_type": "markdown",
   "metadata": {},
   "source": [
    "## Model Evaluation"
   ]
  },
  {
   "cell_type": "code",
   "execution_count": 27,
   "metadata": {},
   "outputs": [
    {
     "name": "stdout",
     "output_type": "stream",
     "text": [
      "Generalized accuracy: 0.9531428571428572\n",
      "Generalized Log-loss: 0.5316581093406405\n",
      "Generalized MSE: 0.8925714285714286\n",
      "Generalized RMSE: 0.9447599846370657\n"
     ]
    }
   ],
   "source": [
    "# Checking the generalizability based on accuracy\n",
    "best_model = models[accuracies_df.index[0]]\n",
    "\n",
    "print('Generalized accuracy:', accuracy_score(y_test, best_model.predict(X_test)))\n",
    "print('Generalized Log-loss:', log_loss(y_test, best_model.predict_proba(X_test)))\n",
    "print('Generalized MSE:',mean_squared_error(y_test, best_model.predict(X_test)))\n",
    "print('Generalized RMSE:',np.sqrt(mean_squared_error(y_test, best_model.predict(X_test))))"
   ]
  },
  {
   "cell_type": "markdown",
   "metadata": {},
   "source": [
    "### Checking for Overfitting"
   ]
  },
  {
   "cell_type": "code",
   "execution_count": 28,
   "metadata": {},
   "outputs": [
    {
     "name": "stdout",
     "output_type": "stream",
     "text": [
      "Accuracy score for train dataset on our selected model: 1.0\n",
      "Accuracy score for test dataset on our selected model: 0.9531428571428572\n"
     ]
    }
   ],
   "source": [
    "print(\"Accuracy score for train dataset on our selected model:\", accuracy_score(y_train, best_model.predict(X_train)))\n",
    "print(\"Accuracy score for test dataset on our selected model:\", accuracy_score(y_test, best_model.predict(X_test)))"
   ]
  },
  {
   "cell_type": "code",
   "execution_count": null,
   "metadata": {},
   "outputs": [],
   "source": []
  }
 ],
 "metadata": {
  "kernelspec": {
   "display_name": "Python 3",
   "language": "python",
   "name": "python3"
  },
  "language_info": {
   "codemirror_mode": {
    "name": "ipython",
    "version": 3
   },
   "file_extension": ".py",
   "mimetype": "text/x-python",
   "name": "python",
   "nbconvert_exporter": "python",
   "pygments_lexer": "ipython3",
   "version": "3.8.3"
  }
 },
 "nbformat": 4,
 "nbformat_minor": 2
}
