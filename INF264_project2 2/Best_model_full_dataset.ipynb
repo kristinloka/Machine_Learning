{
 "cells": [
  {
   "cell_type": "code",
   "execution_count": 1,
   "metadata": {},
   "outputs": [],
   "source": [
    "import matplotlib.pyplot as plt\n",
    "import pandas as pd\n",
    "import numpy as np\n",
    "from sklearn.model_selection import train_test_split, cross_val_score\n",
    "from sklearn.neighbors import KNeighborsClassifier\n",
    "from sklearn import tree\n",
    "from sklearn.metrics import accuracy_score, log_loss, mean_squared_error\n",
    "from sklearn.linear_model import LogisticRegression\n",
    "from sklearn.neural_network import MLPClassifier\n",
    "from sklearn.pipeline import Pipeline\n",
    "from sklearn.preprocessing import StandardScaler\n",
    "from sklearn.model_selection import GridSearchCV"
   ]
  },
  {
   "cell_type": "markdown",
   "metadata": {},
   "source": [
    "### Importing Datasets"
   ]
  },
  {
   "cell_type": "code",
   "execution_count": 2,
   "metadata": {},
   "outputs": [],
   "source": [
    "df_img = pd.read_csv(\"/Users/kristinlokaoydna/UiB_Bioinformatikk/H21/INF264/Python/Prosjekt/2/handwritten_digits_images.csv\", header = None)\n",
    "x_data = df_img.to_numpy()\n",
    "\n",
    "df_label = pd.read_csv(\"/Users/kristinlokaoydna/UiB_Bioinformatikk/H21/INF264/Python/Prosjekt/2/handwritten_digits_labels.csv\", header = None)\n",
    "y_data = df_label.to_numpy()\n",
    "y_data = y_data.flatten()"
   ]
  },
  {
   "cell_type": "markdown",
   "metadata": {},
   "source": [
    "### Splitting Dataset"
   ]
  },
  {
   "cell_type": "code",
   "execution_count": 3,
   "metadata": {},
   "outputs": [],
   "source": [
    "X_train, X_val_test, y_train, y_val_test = train_test_split(x_data, y_data, test_size = 0.3, shuffle = True, random_state = 42)\n",
    "X_val, X_test, y_val, y_test = train_test_split(X_val_test, y_val_test, test_size = 0.5, shuffle = True, random_state = 42)"
   ]
  },
  {
   "cell_type": "markdown",
   "metadata": {},
   "source": [
    "## Model Selection"
   ]
  },
  {
   "cell_type": "code",
   "execution_count": 4,
   "metadata": {},
   "outputs": [],
   "source": [
    "models = {'kNN': KNeighborsClassifier(n_neighbors=5, metric='minkowski', weights='distance'),\n",
    "          'mlp': MLPClassifier(alpha= 0.1, hidden_layer_sizes= 200, max_iter= 100, random_state=42), \n",
    "          'dt': tree.DecisionTreeClassifier(criterion='entropy', max_depth=None, max_features=None, random_state=42)}\n",
    "\n",
    "for _, model in models.items():\n",
    "    model.fit(X_train, y_train)"
   ]
  },
  {
   "cell_type": "code",
   "execution_count": 5,
   "metadata": {},
   "outputs": [
    {
     "name": "stdout",
     "output_type": "stream",
     "text": [
      "     accuracy\n",
      "kNN  0.967619\n",
      "mlp  0.967429\n",
      "dt   0.879714\n"
     ]
    }
   ],
   "source": [
    "# Accuracy on validation data\n",
    "accuracies = {key: accuracy_score(y_val, model.predict(X_val)) for key, model in models.items()}\n",
    "accuracies_df = pd.DataFrame(accuracies, index=['accuracy']).transpose().sort_values(by='accuracy', ascending=False)\n",
    "print(accuracies_df)"
   ]
  },
  {
   "cell_type": "code",
   "execution_count": 6,
   "metadata": {},
   "outputs": [
    {
     "name": "stdout",
     "output_type": "stream",
     "text": [
      "     log-loss\n",
      "kNN  0.389404\n",
      "mlp  0.457569\n",
      "dt   4.154521\n"
     ]
    }
   ],
   "source": [
    "# Log loss on validation data\n",
    "losses = {key: log_loss(y_val, model.predict_proba(X_val)) for key, model in models.items()}\n",
    "losses_df = pd.DataFrame(losses, index=['log-loss']).transpose().sort_values(by='log-loss')\n",
    "print(losses_df)"
   ]
  },
  {
   "cell_type": "code",
   "execution_count": 7,
   "metadata": {},
   "outputs": [
    {
     "name": "stdout",
     "output_type": "stream",
     "text": [
      "          mse\n",
      "mlp  0.650476\n",
      "kNN  0.653333\n",
      "dt   2.141714\n"
     ]
    }
   ],
   "source": [
    "# MSE on validation data\n",
    "mse = {key: mean_squared_error(y_val, model.predict(X_val)) for key, model in models.items()}\n",
    "mse_df = pd.DataFrame(mse, index=['mse']).transpose().sort_values(by='mse', ascending=True)\n",
    "print(mse_df)"
   ]
  },
  {
   "cell_type": "markdown",
   "metadata": {},
   "source": [
    "### Visualization of Performance Measures"
   ]
  },
  {
   "cell_type": "code",
   "execution_count": 8,
   "metadata": {},
   "outputs": [
    {
     "data": {
      "image/png": "[encoded data removed]",
      "text/plain": [
       "<Figure size 1080x1440 with 3 Axes>"
      ]
     },
     "metadata": {
      "needs_background": "light"
     },
     "output_type": "display_data"
    }
   ],
   "source": [
    "plt.figure(figsize = (15, 20))\n",
    "plt.rc(\"xtick\", labelsize=18)\n",
    "\n",
    "plt.subplot(331)\n",
    "plt.bar(x = accuracies_df.index.values, height = accuracies_df.iloc[:, 0], color = \"blue\")\n",
    "plt.title(\"Accuracy score for the different models\", fontsize=15)\n",
    "plt.xlabel('Classifiers', fontsize=15)\n",
    "plt.ylabel('Accuracy', fontsize=15)\n",
    "plt.ylim(0.8,0.97)\n",
    "\n",
    "plt.subplot(332)\n",
    "plt.bar(x = losses_df.index.values, height = losses_df.iloc[:, 0], color = \"orange\")\n",
    "plt.title(\"Log-loss score for the different models\", fontsize=15)\n",
    "plt.xlabel('Classifiers', fontsize=15)\n",
    "plt.ylabel('Log-loss', fontsize=15)\n",
    "\n",
    "plt.subplot(333)\n",
    "plt.bar(x = mse_df.index.values, height = mse_df.iloc[:, 0], color = \"red\")\n",
    "plt.title(\"mse for the different models\", fontsize=15)\n",
    "plt.xlabel('Classifiers', fontsize=15)\n",
    "plt.ylabel('mse', fontsize=15)\n",
    "\n",
    "plt.subplots_adjust(left=0.01, right=0.99)\n",
    "\n",
    "plt.show()"
   ]
  },
  {
   "cell_type": "markdown",
   "metadata": {},
   "source": [
    "## Model Evaluation"
   ]
  },
  {
   "cell_type": "code",
   "execution_count": 9,
   "metadata": {},
   "outputs": [
    {
     "name": "stdout",
     "output_type": "stream",
     "text": [
      "Generalized accuracy: 0.9708571428571429\n",
      "Generalized Log-loss: 0.3359172047093633\n",
      "Generalized MSE: 0.4877142857142857\n",
      "Generalized RMSE: 0.6983654385164587\n"
     ]
    }
   ],
   "source": [
    "# Checking the generalizability based on accuracy\n",
    "best_model = models[accuracies_df.index[0]]\n",
    "\n",
    "print('Generalized accuracy:', accuracy_score(y_test, best_model.predict(X_test)))\n",
    "print('Generalized Log-loss:', log_loss(y_test, best_model.predict_proba(X_test)))\n",
    "print('Generalized MSE:',mean_squared_error(y_test, best_model.predict(X_test)))\n",
    "print('Generalized RMSE:',np.sqrt(mean_squared_error(y_test, best_model.predict(X_test))))"
   ]
  },
  {
   "cell_type": "markdown",
   "metadata": {},
   "source": [
    "### Checking for Overfitting"
   ]
  },
  {
   "cell_type": "code",
   "execution_count": null,
   "metadata": {},
   "outputs": [],
   "source": [
    "print(\"Accuracy score for train dataset on our selected model:\", accuracy_score(y_train, best_model.predict(X_train)))\n",
    "print(\"Accuracy score for test dataset on our selected model:\", accuracy_score(y_test, best_model.predict(X_test)))"
   ]
  },
  {
   "cell_type": "code",
   "execution_count": null,
   "metadata": {},
   "outputs": [],
   "source": []
  }
 ],
 "metadata": {
  "kernelspec": {
   "display_name": "Python 3",
   "language": "python",
   "name": "python3"
  },
  "language_info": {
   "codemirror_mode": {
    "name": "ipython",
    "version": 3
   },
   "file_extension": ".py",
   "mimetype": "text/x-python",
   "name": "python",
   "nbconvert_exporter": "python",
   "pygments_lexer": "ipython3",
   "version": "3.8.3"
  }
 },
 "nbformat": 4,
 "nbformat_minor": 4
}
